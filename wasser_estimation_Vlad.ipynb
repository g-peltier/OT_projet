{
 "cells": [
  {
   "cell_type": "code",
   "execution_count": 109,
   "id": "3acdd199",
   "metadata": {},
   "outputs": [],
   "source": [
    "import torch\n",
    "import numpy as np\n",
    "from torch import nn\n",
    "from tqdm.notebook import tqdm\n",
    "from torch.optim import Adam\n",
    "from torch.utils.data import TensorDataset, DataLoader\n",
    "import matplotlib.pyplot as plt\n",
    "from torch.distributions.multivariate_normal import MultivariateNormal"
   ]
  },
  {
   "cell_type": "code",
   "execution_count": 110,
   "id": "348dcc9d",
   "metadata": {},
   "outputs": [],
   "source": [
    "def Wasserstain_Normal(mean1, mean2, cov1_sqrt, cov2_sqrt):\n",
    "    return torch.norm(mean1 - mean2, p=2)**2 + torch.norm(cov1 - cov2, p=\"fro\")**2\n",
    "\n",
    "class Sinkhorn():\n",
    "    def __init__(self, eps, device=torch.device(\"cpu\")):\n",
    "        self.eps = eps\n",
    "        self.device = device\n",
    "        \n",
    "    def forward(self, a, b, C, n_iter=100):\n",
    "        K = torch.exp(-C/self.eps)\n",
    "        v = torch.ones(b.shape[0], device=self.device)\n",
    "        for _ in range(n_iter):\n",
    "            u = a / (K@v)\n",
    "            v = b / (K.T@u)\n",
    "            \n",
    "        return ((torch.diag(u)@K)@torch.diag(v))\n",
    "        \n",
    "    def __call__(self, a, b, C, n_iter=100):\n",
    "        return self.forward(a, b, C, n_iter)"
   ]
  },
  {
   "cell_type": "code",
   "execution_count": 135,
   "id": "c3988d2a",
   "metadata": {},
   "outputs": [],
   "source": [
    "cfg = {\n",
    "    \"device\": torch.device(\"cuda\") if torch.cuda.is_available() else torch.device(\"cpu\"),\n",
    "    \"batch_size\":32,\n",
    "    \"num_epochs\":500,\n",
    "    \"w_gp\":0.1,\n",
    "}"
   ]
  },
  {
   "cell_type": "code",
   "execution_count": 136,
   "id": "40c00f4a",
   "metadata": {},
   "outputs": [],
   "source": [
    "size = 3\n",
    "mean1 = torch.arange(size, dtype=torch.float32)\n",
    "cov1_tril = torch.tril(torch.rand((size, size)))\n",
    "cov1 = cov1_tril@cov1_tril.T\n",
    "\n",
    "mean2 = torch.arange(size, size*2, dtype=torch.float32)\n",
    "cov2_tril = torch.tril(torch.rand((size, size)))\n",
    "cov2 = cov2_tril@cov2_tril.T\n",
    "\n",
    "dist1 = MultivariateNormal(mean1, cov1)\n",
    "dist2 = MultivariateNormal(mean2, cov2)\n",
    "\n",
    "sample_size = torch.Size([1000])\n",
    "sample1 = dist1.rsample(sample_size)\n",
    "sample2 = dist1.rsample(sample_size)\n",
    "\n",
    "netD = nn.Sequential(\n",
    "    nn.Linear(size, 256),\n",
    "    nn.ReLU(),\n",
    "    nn.Linear(256, 1)\n",
    ").to(cfg[\"device\"])\n",
    "\n",
    "optimD = Adam(netD.parameters(), lr=1e-1)\n",
    "\n",
    "dataset = TensorDataset(sample1, sample2)\n",
    "dataloader = DataLoader(dataset, batch_size=cfg[\"batch_size\"])\n",
    "\n",
    "sinkhorn = Sinkhorn(eps=0.01)"
   ]
  },
  {
   "cell_type": "code",
   "execution_count": 137,
   "id": "0f4f4875",
   "metadata": {},
   "outputs": [
    {
     "data": {
      "application/vnd.jupyter.widget-view+json": {
       "model_id": "506c8a36c21f4214b136ce3b85d4116e",
       "version_major": 2,
       "version_minor": 0
      },
      "text/plain": [
       "  0%|          | 0/500 [00:00<?, ?it/s]"
      ]
     },
     "metadata": {},
     "output_type": "display_data"
    }
   ],
   "source": [
    "losses = [[], []]\n",
    "for e in (pbar := tqdm(range(cfg['num_epochs']))):\n",
    "    n_elem = 0\n",
    "    err_D = 0\n",
    "    err_T = 0\n",
    "    for X_1_batch, X_2_batch in dataloader: \n",
    "        optimD.zero_grad()\n",
    "        X_1_batch = X_1_batch.to(cfg['device'])\n",
    "        X_2_batch = X_2_batch.to(cfg['device'])\n",
    "\n",
    "        e_X_1 = netD(X_1_batch).mean()\n",
    "        e_X_2 = netD(X_2_batch).mean()\n",
    "\n",
    "        netD_loss = e_X_2 - e_X_1 \n",
    "        \n",
    "        mix_alpha = torch.rand((len(X_1_batch), 1), device=cfg['device'])\n",
    "        mixed = mix_alpha * X_1_batch + (1 - mix_alpha) * X_2_batch\n",
    "        mixed.requires_grad_(True)\n",
    "        mixed_preds = netD(mixed).sum()\n",
    "        grads = torch.autograd.grad(\n",
    "            outputs=mixed_preds,\n",
    "            inputs=mixed,\n",
    "            create_graph=True,\n",
    "            retain_graph=True,\n",
    "        )[0]\n",
    "        grads = grads.view(len(X_1_batch), -1)\n",
    "        grad_loss = ((grads.norm(2, dim=-1) - 1) ** 2).mean()\n",
    "\n",
    "        netD_total_loss = netD_loss + cfg['w_gp'] * grad_loss\n",
    "        netD_total_loss.backward()\n",
    "        optimD.step()\n",
    "        \n",
    "        n_elem += X_1_batch.shape[0]\n",
    "        err_D += netD_loss.item()\n",
    "        err_T += grad_loss.item()\n",
    "        \n",
    "    losses[0].append(err_D/n_elem)\n",
    "    losses[1].append(err_T/n_elem)\n",
    "    \n",
    "    pbar.set_description(\"Wasserstain Distance {:.3f}, Gradient {:.3f}\".format(\n",
    "        losses[0][-1],\n",
    "        losses[1][-1],\n",
    "    ))"
   ]
  },
  {
   "cell_type": "code",
   "execution_count": 138,
   "id": "b995b478",
   "metadata": {},
   "outputs": [],
   "source": [
    "W1_ground_truth = Wasserstain_Normal(mean1, mean2, cov1_tril, cov2_tril).item()\n",
    "\n",
    "C = torch.cdist(sample1, sample2, p=1)\n",
    "with torch.no_grad():\n",
    "    a = torch.ones((sample1.shape[0],), device=cfg[\"device\"])/sample1.shape[0]\n",
    "    b = torch.ones((sample2.shape[0],), device=cfg[\"device\"])/sample2.shape[0]\n",
    "    P = sinkhorn(a, b, C/C.max(), 100)\n",
    "    W1_sinkhorn = (P*C).sum().item()"
   ]
  },
  {
   "cell_type": "code",
   "execution_count": 139,
   "id": "b362fc25",
   "metadata": {},
   "outputs": [
    {
     "data": {
      "image/png": "[encoded data removed]",
      "text/plain": [
       "<Figure size 432x288 with 1 Axes>"
      ]
     },
     "metadata": {
      "needs_background": "light"
     },
     "output_type": "display_data"
    }
   ],
   "source": [
    "plt.plot(losses[0], label=\"WGAN Distance\", color=\"blue\")\n",
    "plt.hlines(W1_ground_truth, xmin=0, xmax=len(losses[0]), label=\"Wasserstain Distance\", color=\"green\")\n",
    "plt.hlines(W1_sinkhorn, xmin=0, xmax=len(losses[0]), label=\"Sinkhorn Distance\", color=\"red\")\n",
    "plt.legend()\n",
    "plt.show()"
   ]
  }
 ],
 "metadata": {
  "kernelspec": {
   "display_name": "OT_Kernel",
   "language": "python",
   "name": "ot_kernel"
  },
  "language_info": {
   "codemirror_mode": {
    "name": "ipython",
    "version": 3
   },
   "file_extension": ".py",
   "mimetype": "text/x-python",
   "name": "python",
   "nbconvert_exporter": "python",
   "pygments_lexer": "ipython3",
   "version": "3.10.2"
  }
 },
 "nbformat": 4,
 "nbformat_minor": 5
}
