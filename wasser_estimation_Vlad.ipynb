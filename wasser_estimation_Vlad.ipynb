{
 "cells": [
  {
   "cell_type": "code",
   "execution_count": 5,
   "id": "3acdd199",
   "metadata": {},
   "outputs": [
    {
     "ename": "ModuleNotFoundError",
     "evalue": "No module named 'torch'",
     "output_type": "error",
     "traceback": [
      "\u001b[0;31m---------------------------------------------------------------------------\u001b[0m",
      "\u001b[0;31mModuleNotFoundError\u001b[0m                       Traceback (most recent call last)",
      "Input \u001b[0;32mIn [5]\u001b[0m, in \u001b[0;36m<cell line: 1>\u001b[0;34m()\u001b[0m\n\u001b[0;32m----> 1\u001b[0m \u001b[38;5;28;01mimport\u001b[39;00m \u001b[38;5;21;01mtorch\u001b[39;00m\n",
      "\u001b[0;31mModuleNotFoundError\u001b[0m: No module named 'torch'"
     ]
    }
   ],
   "source": [
    "import torch"
   ]
  },
  {
   "cell_type": "code",
   "execution_count": 1,
   "id": "6a5d690f-7bfc-49f3-a09f-90a80f6a2a26",
   "metadata": {},
   "outputs": [],
   "source": [
    "import jax \n",
    "import jax.numpy as jnp\n",
    "import haiku as hk\n",
    "import numpy as np\n",
    "import matplotlib.pyplot as plt\n",
    "import optax\n",
    "from tqdm import tqdm"
   ]
  },
  {
   "cell_type": "code",
   "execution_count": 2,
   "id": "484c87f4-8b9c-4f8a-8065-603bd99463ad",
   "metadata": {},
   "outputs": [],
   "source": [
    "def cost_fn(x, y):\n",
    "    return jnp.sqrt(jnp.sum(jnp.square(x - y)))\n",
    "\n",
    "\n",
    "def weight_clipping(params, x, y):\n",
    "    f_x = descriminator.apply(params, x)\n",
    "    f_y = descriminator.apply(params, y)\n",
    "    \n",
    "    return jnp.mean(f_x - f_y)\n",
    "\n",
    "\n",
    "def gradient_penality(params, lmb, x, y, z):\n",
    "    f_x = descriminator.apply(params, x)\n",
    "    f_y = descriminator.apply(params, y)\n",
    "    \n",
    "    grad_z = jax.grad(descriminator)(z)\n",
    "    grad_pen = jnp.square(1 - jnp.linalg.norm(grad_Z))\n",
    "    \n",
    "    return f_x - f_y - lmb*grad_pen\n",
    "\n",
    "\n",
    "def c_transform(params, all_x, x, y):\n",
    "    f_x = descriminator.apply(params, x)\n",
    "    \n",
    "    cost_fn_all_x = jax.vmap(cost_fn, in_axes=(1, None))\n",
    "    descriminator_all_x = jax.vmap(descriminator, in_axes=(None, 1))\n",
    "    A = cost_fn_all_x(all_x, y) - descriminator_all_x(params, all_x)\n",
    "    f_y = jnp.min(A)\n",
    "    \n",
    "    return f_x - f_y\n",
    "\n",
    "\n",
    "def c_eps_transform(params, all_x, eps, x, y):\n",
    "    f_x = descriminator.apply(params, x)\n",
    "    \n",
    "    cost_fn_all_x = jax.vmap(cost_fn, in_axes=(1, None))\n",
    "    descriminator_all_x = jax.vmap(descriminator, in_axes=(None, 1))\n",
    "    A = cost_fn_all_x(all_x, y) - descriminator_all_x(params, all_x)\n",
    "    f_y = -eps*jnp.log(jnp.mean(jnp.exp(A/eps)))\n",
    "    \n",
    "    return f_x - f_y"
   ]
  },
  {
   "cell_type": "code",
   "execution_count": 3,
   "id": "ec73ae88-9202-466b-9fc6-69b8a673604f",
   "metadata": {},
   "outputs": [
    {
     "ename": "NameError",
     "evalue": "name 'rng' is not defined",
     "output_type": "error",
     "traceback": [
      "\u001b[0;31m---------------------------------------------------------------------------\u001b[0m",
      "\u001b[0;31mNameError\u001b[0m                                 Traceback (most recent call last)",
      "Input \u001b[0;32mIn [3]\u001b[0m, in \u001b[0;36m<cell line: 17>\u001b[0;34m()\u001b[0m\n\u001b[1;32m     15\u001b[0m \u001b[38;5;66;03m# Sample from each distribution\u001b[39;00m\n\u001b[1;32m     16\u001b[0m nb_samples \u001b[38;5;241m=\u001b[39m \u001b[38;5;241m100000\u001b[39m\n\u001b[0;32m---> 17\u001b[0m x_key, y_key \u001b[38;5;241m=\u001b[39m jax\u001b[38;5;241m.\u001b[39mrandom\u001b[38;5;241m.\u001b[39msplit(\u001b[43mrng\u001b[49m)\n\u001b[1;32m     18\u001b[0m x \u001b[38;5;241m=\u001b[39m dist_1(x_key, nb_samples, \u001b[38;5;241m1\u001b[39m)[\u001b[38;5;241m0\u001b[39m]\n\u001b[1;32m     19\u001b[0m y \u001b[38;5;241m=\u001b[39m dist_2(y_key, nb_samples, \u001b[38;5;241m1\u001b[39m)[\u001b[38;5;241m0\u001b[39m]\n",
      "\u001b[0;31mNameError\u001b[0m: name 'rng' is not defined"
     ]
    }
   ],
   "source": [
    "# Distribution 1\n",
    "def dist_1(rng_key, nb_samples, nb_epoch):\n",
    "    return jax.random.multivariate_normal(rng_key, \n",
    "                                          mean=jnp.array([1,1]), \n",
    "                                          cov=jnp.eye(2),\n",
    "                                          shape=[nb_epoch, nb_samples,])\n",
    "\n",
    "\n",
    "# Distribution 2\n",
    "def dist_2(rng_key, nb_samples, nb_epoch):\n",
    "    return jax.random.multivariate_normal(rng_key, \n",
    "                                          mean=jnp.array([-1,-1]), \n",
    "                                          cov=jnp.eye(2),\n",
    "                                          shape=[nb_epoch, nb_samples,])\n",
    "# Sample from each distribution\n",
    "nb_samples = 100000\n",
    "x_key, y_key = jax.random.split(rng)\n",
    "x = dist_1(x_key, nb_samples, 1)[0]\n",
    "y = dist_2(y_key, nb_samples, 1)[0]\n",
    "\n",
    "plt.plot(x[:,0], x[:, 1], 'o')\n",
    "plt.plot(y[:,0], y[:, 1], 'o')\n",
    "plt.axis('equal');"
   ]
  },
  {
   "cell_type": "code",
   "execution_count": 4,
   "id": "7321e6ce-16b2-4b6e-a01a-3c800ef4b9fb",
   "metadata": {},
   "outputs": [
    {
     "name": "stderr",
     "output_type": "stream",
     "text": [
      "WARNING:absl:No GPU/TPU found, falling back to CPU. (Set TF_CPP_MIN_LOG_LEVEL=0 and rerun for more info.)\n"
     ]
    },
    {
     "ename": "NameError",
     "evalue": "name 'loss_weight_clipping' is not defined",
     "output_type": "error",
     "traceback": [
      "\u001b[0;31m---------------------------------------------------------------------------\u001b[0m",
      "\u001b[0;31mNameError\u001b[0m                                 Traceback (most recent call last)",
      "Input \u001b[0;32mIn [4]\u001b[0m, in \u001b[0;36m<cell line: 22>\u001b[0;34m()\u001b[0m\n\u001b[1;32m     19\u001b[0m params \u001b[38;5;241m=\u001b[39m descriminator\u001b[38;5;241m.\u001b[39minit(params_key, all_x[\u001b[38;5;241m0\u001b[39m])\n\u001b[1;32m     21\u001b[0m \u001b[38;5;66;03m# Loss et gradient\u001b[39;00m\n\u001b[0;32m---> 22\u001b[0m value_loss \u001b[38;5;241m=\u001b[39m jax\u001b[38;5;241m.\u001b[39mvalue_and_grad(\u001b[43mloss_weight_clipping\u001b[49m)\n\u001b[1;32m     24\u001b[0m c \u001b[38;5;241m=\u001b[39m \u001b[38;5;241m0.01\u001b[39m\n\u001b[1;32m     25\u001b[0m \u001b[38;5;129m@jax\u001b[39m\u001b[38;5;241m.\u001b[39mjit\n\u001b[1;32m     26\u001b[0m \u001b[38;5;28;01mdef\u001b[39;00m \u001b[38;5;21mstep\u001b[39m(params, opt_state, x, y):\n",
      "\u001b[0;31mNameError\u001b[0m: name 'loss_weight_clipping' is not defined"
     ]
    }
   ],
   "source": [
    "def descriminator(x):\n",
    "    mlp = hk.nets.MLP([128, 128, 1])\n",
    "    return mlp(x)\n",
    "\n",
    "\n",
    "descriminator = hk.transform(descriminator)\n",
    "descriminator = hk.without_apply_rng(descriminator)\n",
    "\n",
    "# Generation des données\n",
    "nb_samples = 64\n",
    "nb_epoch = 5000\n",
    "rng_key = jax.random.PRNGKey(42)\n",
    "\n",
    "params_key, x_key, y_key = jax.random.split(rng_key, 3)\n",
    "all_x = dist_1(x_key, nb_samples, nb_epoch)\n",
    "all_y = dist_2(y_key, nb_samples, nb_epoch)\n",
    "\n",
    "# Initalisation du modèle\n",
    "params = descriminator.init(params_key, all_x[0])\n",
    "\n",
    "# Loss et gradient\n",
    "value_loss = jax.value_and_grad(loss_weight_clipping)\n",
    "\n",
    "c = 0.01\n",
    "@jax.jit\n",
    "def step(params, opt_state, x, y):\n",
    "    loss, gradient = value_loss(params, x, y)\n",
    "    updates, opt_state = optimizer.update(gradient, opt_state, params)\n",
    "    \n",
    "    # Minus before updates as we want gradient ascent \n",
    "    params = optax.apply_updates(params, jax.tree_map(lambda x: -x, updates))\n",
    "    params = jax.tree_map(lambda x: jnp.clip(x, -c, c), params)\n",
    "    \n",
    "    return params, opt_state, loss\n",
    "\n",
    "# Training\n",
    "optimizer = optax.rmsprop(1e-5)\n",
    "opt_state = optimizer.init(params)\n",
    "\n",
    "loss_list = []\n",
    "for i in tqdm(range(nb_epoch)):\n",
    "    x, y = all_x[i], all_y[i]\n",
    "    \n",
    "    params, opt_state, loss = step(params, opt_state, x, y)\n",
    "    if i % 10 == 0:\n",
    "        loss_list.append(loss)"
   ]
  },
  {
   "cell_type": "code",
   "execution_count": null,
   "id": "f5de88ac-5be0-4339-94a7-4b99b1905512",
   "metadata": {},
   "outputs": [],
   "source": [
    "plt.plot(loss_list[1:]);"
   ]
  }
 ],
 "metadata": {
  "kernelspec": {
   "display_name": "OT_Kernel",
   "language": "python",
   "name": "ot_kernel"
  },
  "language_info": {
   "codemirror_mode": {
    "name": "ipython",
    "version": 3
   },
   "file_extension": ".py",
   "mimetype": "text/x-python",
   "name": "python",
   "nbconvert_exporter": "python",
   "pygments_lexer": "ipython3",
   "version": "3.10.2"
  }
 },
 "nbformat": 4,
 "nbformat_minor": 5
}
